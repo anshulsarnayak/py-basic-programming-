{
 "cells": [
  {
   "cell_type": "code",
   "execution_count": 1,
   "metadata": {},
   "outputs": [
    {
     "name": "stdout",
     "output_type": "stream",
     "text": [
      "Fibonacci sequence:\n",
      "0\n",
      "1\n",
      "1\n",
      "2\n",
      "3\n",
      "5\n",
      "8\n",
      "13\n",
      "21\n",
      "34\n"
     ]
    }
   ],
   "source": [
    "# Python Program to Display Fibonacci Sequence Using Recursion\n",
    "def recur_fibo(n):\n",
    "    if n <= 1:\n",
    "        return n\n",
    "    else:\n",
    "        return(recur_fibo(n-1) + recur_fibo(n-2))\n",
    "\n",
    "nterms = 10\n",
    "\n",
    "\n",
    "if nterms <= 0:\n",
    "    print(\"Plese enter a positive integer\")\n",
    "else:\n",
    "    print(\"Fibonacci sequence:\")\n",
    "    for i in range(nterms):\n",
    "        print(recur_fibo(i))"
   ]
  },
  {
   "cell_type": "code",
   "execution_count": 1,
   "metadata": {},
   "outputs": [
    {
     "name": "stdout",
     "output_type": "stream",
     "text": [
      "insert no for factorial8\n"
     ]
    },
    {
     "data": {
      "text/plain": [
       "40320"
      ]
     },
     "execution_count": 1,
     "metadata": {},
     "output_type": "execute_result"
    }
   ],
   "source": [
    "# Python Program to Find Factorial of Number Using Recursion\n",
    "def fact(n):\n",
    "    if n>0:\n",
    "        return n*fact(n-1)\n",
    "    elif n==0:\n",
    "        return 1\n",
    "    else :\n",
    "        print(\"something is wrong\")\n",
    "n=int(input(\"insert no for factorial \"))\n",
    "fact(n)"
   ]
  },
  {
   "cell_type": "code",
   "execution_count": 2,
   "metadata": {},
   "outputs": [
    {
     "name": "stdout",
     "output_type": "stream",
     "text": [
      "Enter your weight 90\n",
      "Enter your height 1.674\n",
      " your BMI is  32.116750812553796\n"
     ]
    }
   ],
   "source": [
    "#  Python Program to calculate your Body Mass Index\n",
    "w=int(input(\"Enter your weight \"))\n",
    "h=float(input(\"Enter your height \"))\n",
    "b=w/h**2\n",
    "print(\" your BMI is \",b)"
   ]
  },
  {
   "cell_type": "code",
   "execution_count": 3,
   "metadata": {},
   "outputs": [
    {
     "name": "stdout",
     "output_type": "stream",
     "text": [
      "Enter no. for natural log value 44\n",
      "natural log is 3.784189633918261\n"
     ]
    }
   ],
   "source": [
    "# Python Program to calculate the natural logarithm of any number\n",
    "\n",
    "n=float(input(\"Enter no. for natural log value \"))\n",
    "import math\n",
    "a=math.log(n)\n",
    "print(\"natural log is\",a)"
   ]
  },
  {
   "cell_type": "code",
   "execution_count": 4,
   "metadata": {},
   "outputs": [
    {
     "name": "stdout",
     "output_type": "stream",
     "text": [
      "Enter the no.6\n",
      "Total cube sum is 441\n"
     ]
    }
   ],
   "source": [
    "# Python Program for cube sum of first n natural numbers\n",
    "n=int(input(\"Enter the no.\",))\n",
    "tot=0\n",
    "for i in range(1,n+1):\n",
    "    tot=tot+i**3\n",
    "print('Total cube sum is',tot)    "
   ]
  },
  {
   "cell_type": "code",
   "execution_count": null,
   "metadata": {},
   "outputs": [],
   "source": []
  }
 ],
 "metadata": {
  "kernelspec": {
   "display_name": "Python 3",
   "language": "python",
   "name": "python3"
  },
  "language_info": {
   "codemirror_mode": {
    "name": "ipython",
    "version": 3
   },
   "file_extension": ".py",
   "mimetype": "text/x-python",
   "name": "python",
   "nbconvert_exporter": "python",
   "pygments_lexer": "ipython3",
   "version": "3.8.0"
  }
 },
 "nbformat": 4,
 "nbformat_minor": 4
}
