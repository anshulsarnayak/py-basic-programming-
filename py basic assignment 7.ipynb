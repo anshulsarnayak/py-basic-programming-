{
 "cells": [
  {
   "cell_type": "code",
   "execution_count": 3,
   "metadata": {},
   "outputs": [
    {
     "name": "stdout",
     "output_type": "stream",
     "text": [
      "Sum of array is  154\n"
     ]
    }
   ],
   "source": [
    "#  Python Program to find sum of array\n",
    "array=[22,33,44,55]\n",
    "sum=0\n",
    "for i in array:\n",
    "    sum=sum+i\n",
    "print(\"Sum of array is \",sum)"
   ]
  },
  {
   "cell_type": "code",
   "execution_count": 4,
   "metadata": {},
   "outputs": [
    {
     "name": "stdout",
     "output_type": "stream",
     "text": [
      "largest element in array is 55\n"
     ]
    }
   ],
   "source": [
    "# Python Program to find largest element in an array\n",
    "\n",
    "print(\"largest element in array is\",max(array))"
   ]
  },
  {
   "cell_type": "code",
   "execution_count": 5,
   "metadata": {},
   "outputs": [
    {
     "name": "stdout",
     "output_type": "stream",
     "text": [
      "array rotation of array is [55, 44, 33, 22]\n"
     ]
    }
   ],
   "source": [
    "# Python Program for array rotation\n",
    "\n",
    "print(\"array rotation of array is\",array[::-1])"
   ]
  },
  {
   "cell_type": "code",
   "execution_count": 6,
   "metadata": {},
   "outputs": [
    {
     "name": "stdout",
     "output_type": "stream",
     "text": [
      "the split array looks like [' 22', '33', '44', '55', '']\n",
      "addition of first part to end  77\n"
     ]
    }
   ],
   "source": [
    "# Python Program to Split the array and add the first part to the end\n",
    "s=\" \"\n",
    "for i in array:\n",
    "    s=s+str(i)+\",\"\n",
    "    \n",
    "print(\"the split array looks like\",s.split(\",\"))   \n",
    "print(\"addition of first part to end \",array[0]+array[len(array)-1])"
   ]
  },
  {
   "cell_type": "code",
   "execution_count": 13,
   "metadata": {},
   "outputs": [
    {
     "name": "stdout",
     "output_type": "stream",
     "text": [
      "True\n"
     ]
    }
   ],
   "source": [
    "# Python Program to check if given array is Monotonic(continiously increasing or decreasing)\n",
    "def isMonotonic(A):\n",
    "    return (all(A[i] <= A[i + 1] for i in range(len(A) - 1)) or all(A[i] >= A[i + 1] for i in range(len(A) - 1)))\n",
    "\n",
    "A = [1,2,3,4,7,8]\n",
    "print(isMonotonic(A[::-1]))"
   ]
  },
  {
   "cell_type": "code",
   "execution_count": null,
   "metadata": {},
   "outputs": [],
   "source": []
  }
 ],
 "metadata": {
  "kernelspec": {
   "display_name": "Python 3",
   "language": "python",
   "name": "python3"
  },
  "language_info": {
   "codemirror_mode": {
    "name": "ipython",
    "version": 3
   },
   "file_extension": ".py",
   "mimetype": "text/x-python",
   "name": "python",
   "nbconvert_exporter": "python",
   "pygments_lexer": "ipython3",
   "version": "3.8.0"
  }
 },
 "nbformat": 4,
 "nbformat_minor": 4
}
