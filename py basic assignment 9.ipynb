{
 "cells": [
  {
   "cell_type": "code",
   "execution_count": 54,
   "metadata": {},
   "outputs": [
    {
     "name": "stdout",
     "output_type": "stream",
     "text": [
      "input the two or three digit number 135\n",
      "It's a Disarium Number\n"
     ]
    }
   ],
   "source": [
    "# Python program to check if the given number is a Disarium Number?\n",
    "#89,135,518\n",
    "\n",
    "a=(input(\"input the two or three digit number \"))\n",
    "n=[]\n",
    "n.append(str(a))\n",
    "l=len(a)\n",
    "if l == 2:\n",
    "    if int(a)==((int(n[0][1])**l)+(int(n[0][0])**(l-1))):\n",
    "        print(\"It's a Disarium Number\")\n",
    "    else:\n",
    "        print(\"it's not a Disarium Number\")\n",
    "if l == 3:\n",
    "    if int(a)== (int(n[0][2])**l + int(n[0][1])**(l-1) + int(n[0][0])**(l-2)):\n",
    "        print(\"It's a Disarium Number\")\n",
    "    else :\n",
    "        print(\"it's not a Disarium Number\")"
   ]
  },
  {
   "cell_type": "code",
   "execution_count": 65,
   "metadata": {},
   "outputs": [
    {
     "name": "stdout",
     "output_type": "stream",
     "text": [
      "It's a Disarium Number  1\n",
      "It's a Disarium Number  2\n",
      "It's a Disarium Number  3\n",
      "It's a Disarium Number  4\n",
      "It's a Disarium Number  5\n",
      "It's a Disarium Number  6\n",
      "It's a Disarium Number  7\n",
      "It's a Disarium Number  8\n",
      "It's a Disarium Number  9\n",
      "It's a Disarium Number  89\n"
     ]
    }
   ],
   "source": [
    "# Python program to print all disarium numbers between 1 to 100\n",
    "\n",
    "\n",
    "for a in range(1,100):\n",
    "    a=str(a)\n",
    "    if len(a)==1:\n",
    "        if int(a)==int(a[0])**1:\n",
    "            print(\"It's a Disarium Number \",a)\n",
    "    if len(a)==2:\n",
    "        if int(a)==((int(a[1])**2)+(int(a[0])**1)):\n",
    "            print(\"It's a Disarium Number \",a)\n",
    "    \n"
   ]
  },
  {
   "cell_type": "code",
   "execution_count": 30,
   "metadata": {},
   "outputs": [
    {
     "name": "stdout",
     "output_type": "stream",
     "text": [
      "input two digit number 44\n",
      "its an Happy number  44\n"
     ]
    }
   ],
   "source": [
    "10, 13, 19, 23, 28, 31, 32, 44, 49.\n",
    "# Python program to check if the given number is Happy Number\n",
    "\n",
    "def happyn(n):\n",
    "    if len(str(n))==1 and n!=1:\n",
    "        n=str(n)\n",
    "        n=int(n)**2\n",
    "        return happyn(n)\n",
    "\n",
    "    elif len(str(n))==2 and n!=1:\n",
    "        n=str(n)\n",
    "        n= int(n[0])**2+int(n[1])**2\n",
    "        return happyn(n)\n",
    "\n",
    "    elif len(str(n))==3 and n!=1:\n",
    "        n=str(n)\n",
    "        n= int(n[0])**2+int(n[1])**2+int(n[2])**2\n",
    "        return happyn(n)\n",
    "\n",
    "    else:\n",
    "        if n == 1:\n",
    "            print(\"its an Happy number \",k)\n",
    "\n",
    "\n",
    "\n",
    "k =input(\"input two digit number \")   \n",
    "happyn(k)       \n",
    "    \n"
   ]
  },
  {
   "cell_type": "code",
   "execution_count": 31,
   "metadata": {},
   "outputs": [],
   "source": [
    "import sys \n",
    "sys.setrecursionlimit(10000000)"
   ]
  },
  {
   "cell_type": "code",
   "execution_count": 32,
   "metadata": {
    "scrolled": true
   },
   "outputs": [
    {
     "name": "stdout",
     "output_type": "stream",
     "text": [
      "its an Happy number  1\n",
      "stack overflow\n"
     ]
    }
   ],
   "source": [
    "\"\"\"\n",
    "My code is right,\n",
    "What should I do in this code so it doesn't give me stack overflow .\n",
    "I used setrecursion limit but it hasn't changed anything\n",
    "\"\"\"\n",
    "# print all happy numbers between 1 and 100\n",
    "try:        \n",
    "    def happyn(n):\n",
    "        s=str(n)\n",
    "        if len(s)==1 and n!=1:\n",
    "            n=int(n)**2\n",
    "            return happyn(n)\n",
    "\n",
    "        elif len(s)==2 and n!=1:\n",
    "            n=(int((n%100)/10))**2+ (n%10)**2\n",
    "            return happyn(n)\n",
    "\n",
    "        elif len(s)==3 and n!=1:\n",
    "            n= int(n/100)**2+(int((n%100)/10))**2+(n%10)**2\n",
    "            return happyn(n)\n",
    "\n",
    "        else:\n",
    "            if n == 1:\n",
    "                print(\"its an Happy number \",k)\n",
    "\n",
    "    for i in range(1,100):\n",
    "        k=i\n",
    "        happyn(i)\n",
    "\n",
    "except Exception as e:\n",
    "    print(str(e))"
   ]
  },
  {
   "cell_type": "code",
   "execution_count": 6,
   "metadata": {},
   "outputs": [
    {
     "name": "stdout",
     "output_type": "stream",
     "text": [
      "input the no 88\n",
      "it's not a Harshad Number\n"
     ]
    }
   ],
   "source": [
    "# to determine whether the given number is a Harshad Number\n",
    "#6804,378,21.\n",
    "a=input(\"input the no \")\n",
    "if len(a)==1:\n",
    "    tot=int(a[0])\n",
    "    a=int(a)\n",
    "    if a%tot == 0 :\n",
    "        print(\"Given no is a Harshad Number\",a)\n",
    "    else:\n",
    "        print(\"it's not a Harshad Number\")\n",
    "\n",
    "elif len(a)==2:\n",
    "    tot=int(a[0])+int(a[1])\n",
    "    a=int(a)\n",
    "    if a%tot == 0 :\n",
    "        print(\"Given no is a Harshad Number\",a)\n",
    "    else:\n",
    "        print(\"it's not a Harshad Number\")\n",
    "\n",
    "\n",
    "elif len(a)==3:\n",
    "    tot=int(a[0])+int(a[1])+int(a[2])\n",
    "    a=int(a)\n",
    "    if a%tot == 0 :\n",
    "        print(\"Given no is a Harshad Number\",a)\n",
    "    else:\n",
    "        print(\"it's not a Harshad Number\")\n",
    "\n",
    "elif len(a)==4:\n",
    "    tot=int(a[0])+int(a[1])+int(a[2])+int(a[3])\n",
    "    a=int(a)\n",
    "    if a%tot == 0 :\n",
    "        print(\"Given no is a Harshad Number\",a)\n",
    "    else:\n",
    "        print(\"it's not a Harshad Number\")\n",
    "\n"
   ]
  },
  {
   "cell_type": "code",
   "execution_count": 9,
   "metadata": {},
   "outputs": [
    {
     "name": "stdout",
     "output_type": "stream",
     "text": [
      "Given no is a Harshad Number 10\n",
      "Given no is a Harshad Number 12\n",
      "Given no is a Harshad Number 18\n",
      "Given no is a Harshad Number 20\n",
      "Given no is a Harshad Number 21\n",
      "Given no is a Harshad Number 24\n",
      "Given no is a Harshad Number 27\n",
      "Given no is a Harshad Number 30\n",
      "Given no is a Harshad Number 36\n",
      "Given no is a Harshad Number 40\n",
      "Given no is a Harshad Number 42\n",
      "Given no is a Harshad Number 45\n",
      "Given no is a Harshad Number 48\n",
      "Given no is a Harshad Number 50\n",
      "Given no is a Harshad Number 54\n",
      "Given no is a Harshad Number 60\n",
      "Given no is a Harshad Number 63\n",
      "Given no is a Harshad Number 70\n",
      "Given no is a Harshad Number 72\n",
      "Given no is a Harshad Number 80\n",
      "Given no is a Harshad Number 81\n",
      "Given no is a Harshad Number 84\n",
      "Given no is a Harshad Number 90\n"
     ]
    }
   ],
   "source": [
    "for a in range (10,100):\n",
    "    a=str(a)\n",
    "    tot=int(a[0])+int(a[1])\n",
    "    a=int(a)\n",
    "    if a%tot == 0 :\n",
    "        print(\"Given no is a Harshad Number\",a)\n",
    "   "
   ]
  },
  {
   "cell_type": "code",
   "execution_count": 14,
   "metadata": {},
   "outputs": [
    {
     "name": "stdout",
     "output_type": "stream",
     "text": [
      "it's a pronic number 2\n",
      "it's a pronic number 6\n",
      "it's a pronic number 12\n",
      "it's a pronic number 20\n",
      "it's a pronic number 30\n",
      "it's a pronic number 42\n",
      "it's a pronic number 56\n",
      "it's a pronic number 72\n",
      "it's a pronic number 90\n"
     ]
    }
   ],
   "source": [
    "# to print all pronic numbers between 1 and 100\n",
    "# 0,2,6,12..\n",
    "\n",
    "for n in range(1,100):\n",
    "    a= n*(n+1)\n",
    "    if a<=100:\n",
    "        print(\"it's a pronic number\",a)"
   ]
  },
  {
   "cell_type": "code",
   "execution_count": null,
   "metadata": {},
   "outputs": [],
   "source": []
  }
 ],
 "metadata": {
  "kernelspec": {
   "display_name": "Python 3",
   "language": "python",
   "name": "python3"
  },
  "language_info": {
   "codemirror_mode": {
    "name": "ipython",
    "version": 3
   },
   "file_extension": ".py",
   "mimetype": "text/x-python",
   "name": "python",
   "nbconvert_exporter": "python",
   "pygments_lexer": "ipython3",
   "version": "3.8.0"
  }
 },
 "nbformat": 4,
 "nbformat_minor": 4
}
