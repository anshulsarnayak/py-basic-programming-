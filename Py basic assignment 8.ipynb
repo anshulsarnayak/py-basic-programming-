{
 "cells": [
  {
   "cell_type": "code",
   "execution_count": 28,
   "metadata": {},
   "outputs": [
    {
     "name": "stdout",
     "output_type": "stream",
     "text": [
      "[5, 5]\n"
     ]
    }
   ],
   "source": [
    "# Python Program to Add Two Matrices\n",
    "def addmatrices(l,m):\n",
    "    add=[]\n",
    "    for i in range(len(l)):\n",
    "        a= l[i]+m[i]\n",
    "        add.append(a)\n",
    "    print(add)\n",
    "\n",
    "addmatrices([3,2],[2,3])"
   ]
  },
  {
   "cell_type": "code",
   "execution_count": 29,
   "metadata": {},
   "outputs": [
    {
     "name": "stdout",
     "output_type": "stream",
     "text": [
      "[6, 6]\n"
     ]
    }
   ],
   "source": [
    "#  Python Program to Multiply Two Matrices\n",
    "def mulmatrices(l,m):\n",
    "    mul=[]\n",
    "    for i in range(len(l)):\n",
    "        a= l[i]*m[i]\n",
    "        mul.append(a)\n",
    "    print(mul)\n",
    "\n",
    "mulmatrices([3,2],[2,3])"
   ]
  },
  {
   "cell_type": "code",
   "execution_count": 19,
   "metadata": {},
   "outputs": [
    {
     "name": "stdout",
     "output_type": "stream",
     "text": [
      "[[1, 2, 3], [4, 5, 6]]\n",
      "\n",
      "\n",
      "[[1 4]\n",
      " [2 5]\n",
      " [3 6]]\n"
     ]
    }
   ],
   "source": [
    "# Python Program to Transpose a Matrix\n",
    "\n",
    "import numpy as np\n",
    "matrix=[[1,2,3],[4,5,6]]\n",
    "print(matrix)\n",
    "print(\"\\n\")\n",
    "print(np.transpose(matrix))"
   ]
  },
  {
   "cell_type": "code",
   "execution_count": 2,
   "metadata": {},
   "outputs": [
    {
     "name": "stdout",
     "output_type": "stream",
     "text": [
      "how many words to sort 3\n",
      "enter the world ansh\n",
      "enter the world suju\n",
      "enter the world anu\n",
      "['ansh', 'anu', 'suju']\n"
     ]
    }
   ],
   "source": [
    "# Python Program to Sort Words in Alphabetic Order\n",
    "def sortword():\n",
    "    n=int(input(\"how many words to sort \"))\n",
    "    a=[]\n",
    "    for i in range(n):\n",
    "            k=input(\"enter the world \")\n",
    "            a.append(k)\n",
    "    a.sort()\n",
    "    print(a)\n",
    "sortword()"
   ]
  },
  {
   "cell_type": "code",
   "execution_count": 15,
   "metadata": {},
   "outputs": [
    {
     "name": "stdout",
     "output_type": "stream",
     "text": [
      "kkkdldssadff\n"
     ]
    }
   ],
   "source": [
    "# Python Program to Remove Punctuation From a String\n",
    "\n",
    "punctuations = '''!()-[]{};:'\"\\,<>./?@#$%^&*_~'''\n",
    "\n",
    "my_str = \"kkkdl';ds@#sadff\"\n",
    "\n",
    "\n",
    "# remove punctuation from the string\n",
    "no_punct = \"\"\n",
    "for char in my_str:\n",
    "    if char not in punctuations:\n",
    "        no_punct = no_punct + char\n",
    "\n",
    "# display the unpunctuated string\n",
    "print(no_punct)"
   ]
  },
  {
   "cell_type": "code",
   "execution_count": null,
   "metadata": {},
   "outputs": [],
   "source": []
  },
  {
   "cell_type": "code",
   "execution_count": null,
   "metadata": {},
   "outputs": [],
   "source": []
  }
 ],
 "metadata": {
  "kernelspec": {
   "display_name": "Python 3",
   "language": "python",
   "name": "python3"
  },
  "language_info": {
   "codemirror_mode": {
    "name": "ipython",
    "version": 3
   },
   "file_extension": ".py",
   "mimetype": "text/x-python",
   "name": "python",
   "nbconvert_exporter": "python",
   "pygments_lexer": "ipython3",
   "version": "3.8.0"
  }
 },
 "nbformat": 4,
 "nbformat_minor": 4
}
