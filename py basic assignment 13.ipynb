{
 "cells": [
  {
   "cell_type": "code",
   "execution_count": 52,
   "metadata": {},
   "outputs": [
    {
     "name": "stdout",
     "output_type": "stream",
     "text": [
      "100,150,180\n"
     ]
    },
    {
     "data": {
      "text/plain": [
       "(18, 22, 24)"
      ]
     },
     "execution_count": 52,
     "metadata": {},
     "output_type": "execute_result"
    }
   ],
   "source": [
    "\"\"\"Question 1:\n",
    "Write a program that calculates and prints the value according to the given formula:\n",
    "Q = Square root of [(2 * C * D)/H]\n",
    "Following are the fixed values of C and H:\n",
    "C is 50. H is 30.\n",
    "D is the variable whose values should be input to your program in a comma-separated sequence.\n",
    "Example\n",
    "Let us assume the following comma separated input sequence is given to the program:\n",
    "100,150,180\n",
    "The output of the program should be:\n",
    "18,22,24\"\"\"\n",
    "import math\n",
    "z=[]\n",
    "e=input()\n",
    "d=e.split(sep=',')\n",
    "c=50\n",
    "h=30\n",
    "for i in d:\n",
    "    i=int(i)\n",
    "    q=math.sqrt((2*c*i)/h)\n",
    "    z.append(int(q))\n",
    "z=tuple(z)\n",
    "z"
   ]
  },
  {
   "cell_type": "code",
   "execution_count": 3,
   "metadata": {},
   "outputs": [
    {
     "name": "stdout",
     "output_type": "stream",
     "text": [
      "3\n",
      "5\n"
     ]
    },
    {
     "data": {
      "text/plain": [
       "array([[0, 0, 0, 0, 0],\n",
       "       [0, 1, 2, 3, 4],\n",
       "       [0, 2, 4, 6, 8]])"
      ]
     },
     "execution_count": 3,
     "metadata": {},
     "output_type": "execute_result"
    }
   ],
   "source": [
    "\"\"\"Question 2:\n",
    "Write a program which takes 2 digits, X,Y as input and generates a 2-dimensional array. \n",
    "The element value in the i-th row and j-th column of the array should be i*j.\n",
    "Note: i=0,1.., X-1; j=0,1,¡Y-1.\n",
    "Example\n",
    "Suppose the following inputs are given to the program:\n",
    "3,5\n",
    "Then, the output of the program should be:\n",
    "\n",
    "[[0, 0, 0, 0, 0], [0, 1, 2, 3, 4], [0, 2, 4, 6, 8]] \"\"\"\n",
    "\n",
    "import numpy as np\n",
    "x,y=int(input()),int(input())\n",
    "x=3\n",
    "y=5\n",
    "l=[]\n",
    "for i in range(x):\n",
    "    for j in range(y):\n",
    "        l.append(i*j)\n",
    "i=int(len(l)/3)\n",
    "l1=l[0:i]\n",
    "l2=l[i:i*2]\n",
    "l3=l[i*2:i*3]\n",
    "o=np.array([l1,l2,l3])\n",
    "o"
   ]
  },
  {
   "cell_type": "code",
   "execution_count": 9,
   "metadata": {},
   "outputs": [
    {
     "name": "stdout",
     "output_type": "stream",
     "text": [
      "Enter comma separated sequence of words\n",
      "without,hello,bag,world\n",
      "words in a comma-separated sequence after sorting them alphabetically will be\n",
      " ['bag', 'hello', 'without', 'world']\n"
     ]
    }
   ],
   "source": [
    "\"\"\"Question 3:\n",
    "Write a program that accepts a comma separated sequence of words as input and\n",
    "prints the words in a comma-separated sequence after sorting them alphabetically.\n",
    "Suppose the following input is supplied to the program:\n",
    "without,hello,bag,world\n",
    "Then, the output should be:\n",
    "bag,hello,without,world\"\"\"\n",
    "\n",
    "a=input('Enter comma separated sequence of words\\n')\n",
    "b=sorted(a.split(sep=','))\n",
    "print('words in a comma-separated sequence after sorting them alphabetically will be\\n',b)"
   ]
  },
  {
   "cell_type": "code",
   "execution_count": 32,
   "metadata": {},
   "outputs": [
    {
     "name": "stdout",
     "output_type": "stream",
     "text": [
      "Enter the sentence\n",
      "hello world and practice makes perfect and hello world again\n",
      "\n",
      "The output is \n",
      " again and hello makes perfect practice world \n"
     ]
    }
   ],
   "source": [
    "\"\"\"\n",
    "Question 4:\n",
    "Write a program that accepts a sequence of whitespace separated words as input and\n",
    "prints the words after removing all duplicate words and sorting them alphanumerically.\n",
    "Suppose the following input is supplied to the program:\n",
    "hello world and practice makes perfect and hello world again\n",
    "Then, the output should be:\n",
    "again and hello makes perfect practice world\"\"\"\n",
    "a=input('Enter the sentence\\n')\n",
    "b=(a.split(sep=' '))\n",
    "b=set(b)\n",
    "b=sorted(list(b))\n",
    "s=\"\"\n",
    "for i in b:\n",
    "    s=s+i+\" \"\n",
    "print(\"\\nThe output is \\n\",s)"
   ]
  },
  {
   "cell_type": "code",
   "execution_count": 102,
   "metadata": {},
   "outputs": [
    {
     "name": "stdout",
     "output_type": "stream",
     "text": [
      "Enter \n",
      "hello world! 123\n",
      "\n",
      "LETTERS 10 \n",
      "DIGITS 3\n"
     ]
    }
   ],
   "source": [
    "\"\"\"\n",
    "Question 5:\n",
    "Write a program that accepts a sentence and calculate the number of letters and digits.\n",
    "Suppose the following input is supplied to the program:\n",
    "hello world! 123\n",
    "Then, the output should be:\n",
    "LETTERS 10\n",
    "DIGITS 3\"\"\"\n",
    "a=input(\"Enter \\n\")\n",
    "b=a.split()\n",
    "b=\"\".join(b)\n",
    "c=''\n",
    "d=''\n",
    "for i in b:\n",
    "    if i.isalpha()==True:\n",
    "        c=c+i\n",
    "    elif i.isnumeric()==True:\n",
    "        d=d+i\n",
    "    else:\n",
    "        pass\n",
    "print(\"\\nLETTERS {} \\nDIGITS {}\".format(len(c),len(d)))"
   ]
  },
  {
   "cell_type": "code",
   "execution_count": 36,
   "metadata": {},
   "outputs": [
    {
     "name": "stdout",
     "output_type": "stream",
     "text": [
      "Enter passwords \n",
      "ABd1234@1,a F1#,2w3E*,2We3345\n",
      "Passwords which satisfied all conditons is \n",
      " ABd1234@1\n"
     ]
    }
   ],
   "source": [
    "\"\"\"\n",
    "Question 6:\n",
    "A website requires the users to input username and password to register.\n",
    "Write a program to check the validity of password input by users.\n",
    "Following are the criteria for checking the password:\n",
    "1. At least 1 letter between [a-z]\n",
    "2. At least 1 number between [0-9]\n",
    "1. At least 1 letter between [A-Z]\n",
    "3. At least 1 character from [$#@]\n",
    "4. Minimum length of transaction password: 6\n",
    "5. Maximum length of transaction password: 12\n",
    "Your program should accept a sequence of comma separated passwords and\n",
    "will check them according to the above criteria. Passwords that match the criteria are to be printed, each separated by a comma.\n",
    "Example\n",
    "If the following passwords are given as input to the program:\n",
    "ABd1234@1,a F1#,2w3E*,2We3345\n",
    "Then, the output of the program should be:\n",
    "ABd1234@1\"\"\"\n",
    "a=input(\"Enter passwords \\n\")\n",
    "b=a.split(sep=',')\n",
    "c=[]\n",
    "for i in b:\n",
    "    if len(i) in range(6,13):\n",
    "        c.append(i)\n",
    "if len(c)==0:\n",
    "    print(\"Passwords are invalid try in min length of 6 and max length of 12\")\n",
    "\n",
    "d=[]\n",
    "for i in c:\n",
    "    if ('@' in i or '#' in i or '$' in i):       \n",
    "        d.append(i)\n",
    "import string\n",
    "for k in range(len(d)):\n",
    "    cap=0\n",
    "    dig=0\n",
    "    sma=0\n",
    "    for i in d[k]:\n",
    "        for j in i:\n",
    "            if j in string.ascii_lowercase:\n",
    "                sma=sma+1\n",
    "            elif j in string.ascii_uppercase:\n",
    "                cap=cap+1\n",
    "            elif j in string.digits:\n",
    "                dig=dig+1\n",
    "            else:\n",
    "                pass \n",
    "    if cap>0 and sma>0 and dig>0:\n",
    "        print('Passwords which satisfied all conditons is \\n',d[k])"
   ]
  },
  {
   "cell_type": "code",
   "execution_count": null,
   "metadata": {},
   "outputs": [],
   "source": []
  }
 ],
 "metadata": {
  "kernelspec": {
   "display_name": "Python 3",
   "language": "python",
   "name": "python3"
  },
  "language_info": {
   "codemirror_mode": {
    "name": "ipython",
    "version": 3
   },
   "file_extension": ".py",
   "mimetype": "text/x-python",
   "name": "python",
   "nbconvert_exporter": "python",
   "pygments_lexer": "ipython3",
   "version": "3.8.0"
  }
 },
 "nbformat": 4,
 "nbformat_minor": 4
}
