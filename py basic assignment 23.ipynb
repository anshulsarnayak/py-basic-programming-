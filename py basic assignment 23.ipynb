{
 "cells": [
  {
   "cell_type": "code",
   "execution_count": 22,
   "metadata": {},
   "outputs": [
    {
     "data": {
      "text/plain": [
       "True"
      ]
     },
     "execution_count": 22,
     "metadata": {},
     "output_type": "execute_result"
    }
   ],
   "source": [
    "\"\"\"\n",
    "Question 1\n",
    "Create a function that takes a number as an argument and returns True or False depending on whether the number \n",
    "is symmetrical or not. A number is symmetrical when it is the same as its reverse.Examples\n",
    "is_symmetrical(7227) ➞ True\n",
    "is_symmetrical(12567) ➞ False\n",
    "is_symmetrical(44444444) ➞ True\n",
    "is_symmetrical(9939) ➞ False\n",
    "is_symmetrical(1112111) ➞ True\n",
    "\"\"\"\n",
    "\n",
    "def is_symmetrical(n):\n",
    "    n=str(n)\n",
    "    if len(n)%2!=0:\n",
    "        a=n[(int(len(n)/2)+1):len(n)]\n",
    "        if n[0:int(len(n)/2)]==n[(int(len(n)/2)+1):len(n)] or n[0:int(len(n)/2)]==a[::-1]:\n",
    "            return True\n",
    "        else:\n",
    "            return False\n",
    "    else:\n",
    "        a=n[(int(len(n)/2)):len(n)]\n",
    "        if n[0:int(len(n)/2)]==n[(int(len(n)/2)):len(n)] or n[0:int(len(n)/2)]== a[::-1]:\n",
    "            return True\n",
    "        else:\n",
    "            return False\n",
    "    \n",
    "is_symmetrical(7227)"
   ]
  },
  {
   "cell_type": "code",
   "execution_count": 42,
   "metadata": {},
   "outputs": [
    {
     "data": {
      "text/plain": [
       "120"
      ]
     },
     "execution_count": 42,
     "metadata": {},
     "output_type": "execute_result"
    }
   ],
   "source": [
    "\"\"\"\n",
    "Question 2\n",
    "Given a string of numbers separated by a comma and space, return the product of the numbers.\n",
    "Examples\n",
    "multiply_nums(\"2, 3\") ➞ 6\n",
    "multiply_nums(\"1, 2, 3, 4\") ➞ 24\n",
    "multiply_nums(\"54, 75, 453, 0\") ➞ 0\n",
    "multiply_nums(\"10, -2\") ➞ -20\n",
    "\"\"\"\n",
    "def multiply_nums(s):\n",
    "    l=s.split(sep=',')\n",
    "    tot=1\n",
    "    for i in l:\n",
    "        i=int(i)\n",
    "        tot=tot*i\n",
    "        \n",
    "    return tot\n",
    "\n",
    "multiply_nums(\"1, 2, 3, 4,5\")"
   ]
  },
  {
   "cell_type": "code",
   "execution_count": 53,
   "metadata": {},
   "outputs": [
    {
     "data": {
      "text/plain": [
       "416649"
      ]
     },
     "execution_count": 53,
     "metadata": {},
     "output_type": "execute_result"
    }
   ],
   "source": [
    "\"\"\"\n",
    "Question 3\n",
    "Create a function that squares every digit of a number.\n",
    "Examples\n",
    "square_digits(9119) ➞ 811181\n",
    "square_digits(2483) ➞ 416649\n",
    "square_digits(3212) ➞ 9414\n",
    "Notes\n",
    "The function receives an integer and must return an integer.\n",
    "\"\"\"\n",
    "def square_digits(n):\n",
    "    a=\"\"\n",
    "    n=str(n)\n",
    "    for i in n:\n",
    "        i=int(i)\n",
    "        a=a+str(i**2)\n",
    "    return int(a)\n",
    "\n",
    "square_digits(2483)"
   ]
  },
  {
   "cell_type": "code",
   "execution_count": 61,
   "metadata": {},
   "outputs": [
    {
     "data": {
      "text/plain": [
       "[5, 7, 8, 9, 10, 15]"
      ]
     },
     "execution_count": 61,
     "metadata": {},
     "output_type": "execute_result"
    }
   ],
   "source": [
    "\"\"\"Question 4\n",
    "Create a function that sorts a list and removes all duplicate items from it.\n",
    "Examples\n",
    "setify([1, 3, 3, 5, 5]) ➞ [1, 3, 5]\n",
    "setify([4, 4, 4, 4]) ➞ [4]\n",
    "setify([5, 7, 8, 9, 10, 15]) ➞ [5, 7, 8, 9, 10, 15]\n",
    "setify([3, 3, 3, 2, 1]) ➞ [1, 2, 3]\n",
    "\"\"\"\n",
    "def setify(l):\n",
    "    d=[]\n",
    "    for i in l:\n",
    "        if i not in d:\n",
    "            d.append(i)\n",
    "    return sorted(d)\n",
    "\n",
    "setify([5, 7, 8, 9, 10, 15,10])"
   ]
  },
  {
   "cell_type": "code",
   "execution_count": 70,
   "metadata": {},
   "outputs": [
    {
     "data": {
      "text/plain": [
       "6"
      ]
     },
     "execution_count": 70,
     "metadata": {},
     "output_type": "execute_result"
    }
   ],
   "source": [
    "\"\"\"\n",
    "Question 5\n",
    "Create a function that returns the mean of all digits.\n",
    "Examples\n",
    "mean(42) ➞ 3\n",
    "mean(12345) ➞ 3\n",
    "mean(666) ➞ 6\n",
    "Notes\n",
    "The mean of all digits is the sum of digits / how many digits there are\n",
    "(e.g. mean of digits in 512 is (5+1+2)/3(number of digits) = 8/3=2).\n",
    "The mean will always be an integer.\n",
    "\"\"\"\n",
    "def mean(n):\n",
    "    n=str(n)\n",
    "    tot=0\n",
    "    c=0\n",
    "    for i in n:\n",
    "        tot=tot+int(i)\n",
    "        c=c+1\n",
    "    return tot//c\n",
    "mean(556677)"
   ]
  }
 ],
 "metadata": {
  "kernelspec": {
   "display_name": "Python 3",
   "language": "python",
   "name": "python3"
  },
  "language_info": {
   "codemirror_mode": {
    "name": "ipython",
    "version": 3
   },
   "file_extension": ".py",
   "mimetype": "text/x-python",
   "name": "python",
   "nbconvert_exporter": "python",
   "pygments_lexer": "ipython3",
   "version": "3.8.0"
  }
 },
 "nbformat": 4,
 "nbformat_minor": 4
}
