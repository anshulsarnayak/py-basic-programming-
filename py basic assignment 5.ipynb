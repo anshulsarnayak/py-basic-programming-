{
 "cells": [
  {
   "cell_type": "code",
   "execution_count": 9,
   "metadata": {},
   "outputs": [
    {
     "name": "stdout",
     "output_type": "stream",
     "text": [
      "36\n",
      "144\n",
      "LCM of 36,144 is 144\n"
     ]
    }
   ],
   "source": [
    "# Find LCM  (lowest common multiplier)\n",
    "\n",
    "a,b= int(input()),int(input())\n",
    "l=[]\n",
    "for i in range(1,min(a,b)+1):\n",
    "    if a%i==0 and b%i==0:\n",
    "        l.append(i)       \n",
    "c=l[len(l)-1] \n",
    "\n",
    "LCM = (a*b)/ c\n",
    "print(\"LCM of {},{} is {}\".format(a,b,int(LCM)))"
   ]
  },
  {
   "cell_type": "code",
   "execution_count": 10,
   "metadata": {},
   "outputs": [
    {
     "name": "stdout",
     "output_type": "stream",
     "text": [
      "245\n",
      "98\n",
      "HCF of 245,98 is 49\n"
     ]
    }
   ],
   "source": [
    "# Find HCF  (highest common factor)\n",
    "\n",
    "a,b= int(input()),int(input())\n",
    "\n",
    "for i in range(1,min(a,b)+1):\n",
    "    if a%i==0 and b%i==0:\n",
    "        l.append(i)       \n",
    "c=l[len(l)-1] \n",
    "\n",
    "print(\"HCF of {},{} is {}\".format(a,b,c))"
   ]
  },
  {
   "cell_type": "code",
   "execution_count": 11,
   "metadata": {
    "scrolled": true
   },
   "outputs": [
    {
     "name": "stdout",
     "output_type": "stream",
     "text": [
      "enter the Decimal  28\n",
      "Binary no. is  1 1 1 0 0 "
     ]
    }
   ],
   "source": [
    "# Convert Decimal to Binary \n",
    "n=int(input(\"enter the Decimal  \"))\n",
    "l=[]\n",
    "for i in range(n):\n",
    "    if n/(2**i)>=1:\n",
    "        l.append(i)\n",
    "    else:\n",
    "        pass\n",
    "    \n",
    "c=l[::-1]\n",
    "print(\"Binary no. is \",end=\" \")\n",
    "for j in c:\n",
    "    if n>=2**j:\n",
    "        n=n-(2**j)\n",
    "        print(1,end=\" \")\n",
    "    else:\n",
    "        print(0,end=\" \")\n",
    "    "
   ]
  },
  {
   "cell_type": "code",
   "execution_count": 12,
   "metadata": {},
   "outputs": [
    {
     "name": "stdout",
     "output_type": "stream",
     "text": [
      " enter the decimal value 344\n",
      "The decimal value of 344 is:\n",
      "0b101011000 in binary.\n",
      "0o530 in octal.\n",
      "0x158 in hexadecimal.\n"
     ]
    }
   ],
   "source": [
    "# Convert Decimal to Binary, Octal and Hexadecimal\n",
    "dec=int(input(\" enter the decimal value\"))\n",
    "print(\"The decimal value of\", dec, \"is:\")\n",
    "print(bin(dec), \"in binary.\")\n",
    "print(oct(dec), \"in octal.\")\n",
    "print(hex(dec), \"in hexadecimal.\")\n"
   ]
  },
  {
   "cell_type": "code",
   "execution_count": 13,
   "metadata": {},
   "outputs": [
    {
     "name": "stdout",
     "output_type": "stream",
     "text": [
      "Enter the character to get ASCII  A\n"
     ]
    },
    {
     "data": {
      "text/plain": [
       "65"
      ]
     },
     "execution_count": 13,
     "metadata": {},
     "output_type": "execute_result"
    }
   ],
   "source": [
    "# Find ASCII value of a character\n",
    "n=input(\"Enter the character to get ASCII  \")\n",
    "ord(n)"
   ]
  },
  {
   "cell_type": "code",
   "execution_count": 14,
   "metadata": {},
   "outputs": [
    {
     "name": "stdout",
     "output_type": "stream",
     "text": [
      "int 1  33\n",
      "int 2  33\n",
      "what to do mul,add,sub,div  div\n",
      "1.0\n"
     ]
    }
   ],
   "source": [
    "# Simple Calculator with 4 basic\n",
    "\n",
    "a , b ,c = int(input(\"int 1  \")) ,  int(input(\"int 2  \")) ,input(\"what to do mul,add,sub,div  \")\n",
    "\n",
    "if c=='mul':\n",
    "    print(a*b)\n",
    "elif c=='add':\n",
    "    print(a+b)\n",
    "elif c=='sub':\n",
    "    print(a-b) \n",
    "elif c== 'div':\n",
    "    print(a/b)\n",
    "else:\n",
    "    pass"
   ]
  },
  {
   "cell_type": "code",
   "execution_count": null,
   "metadata": {},
   "outputs": [],
   "source": []
  }
 ],
 "metadata": {
  "kernelspec": {
   "display_name": "Python 3",
   "language": "python",
   "name": "python3"
  },
  "language_info": {
   "codemirror_mode": {
    "name": "ipython",
    "version": 3
   },
   "file_extension": ".py",
   "mimetype": "text/x-python",
   "name": "python",
   "nbconvert_exporter": "python",
   "pygments_lexer": "ipython3",
   "version": "3.8.0"
  }
 },
 "nbformat": 4,
 "nbformat_minor": 4
}
