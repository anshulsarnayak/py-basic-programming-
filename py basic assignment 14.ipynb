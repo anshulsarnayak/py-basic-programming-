{
 "cells": [
  {
   "cell_type": "code",
   "execution_count": 29,
   "metadata": {},
   "outputs": [
    {
     "name": "stdout",
     "output_type": "stream",
     "text": [
      "0 7 14 21 28 35 42 49 56 63 70 77 84 91 98 105 112 119 126 133 140 147 154 161 168 175 182 189 196 203 210 217 224 231 238 245 252 259 266 273 280 287 294 301 308 315 322 329 336 343 350 357 364 371 378 385 392 399 406 413 420 427 434 441 448 455 462 469 476 483 490 497 504 511 518 525 532 539 546 553 560 567 574 581 588 595 602 609 616 623 630 637 644 651 658 665 672 679 686 693 700 707 714 721 728 735 742 749 756 763 770 777 784 791 798 805 812 819 826 833 840 847 854 861 868 875 882 889 896 903 910 917 924 931 938 945 952 959 966 973 980 987 994 "
     ]
    }
   ],
   "source": [
    "\"\"\"Question 1:\n",
    "Define a class with a generator which can iterate the numbers, which are divisible by 7, between a given range 0 and n.\n",
    "\"\"\"\n",
    "class div7:\n",
    "    def __init__(self,n):\n",
    "        self.n=n\n",
    "    \n",
    "    def iterate(self):   \n",
    "        def divv7(self):\n",
    "            for i in range(self):\n",
    "                if i%7==0:\n",
    "                    yield i\n",
    "        for i in divv7(self):\n",
    "                print(i,end=\" \")   \n",
    "o=div7(1000)\n",
    "div7.iterate(1000)"
   ]
  },
  {
   "cell_type": "code",
   "execution_count": 52,
   "metadata": {},
   "outputs": [
    {
     "name": "stdout",
     "output_type": "stream",
     "text": [
      "Enter the sentence\n",
      "New to Python or choosing between Python 2 and Python 3? Read Python 2 or Python 3.\n",
      "2 : 2\n",
      "3. : 1\n",
      "3? : 1\n",
      "New : 1\n",
      "Python : 5\n",
      "Read : 1\n",
      "and : 1\n",
      "between : 1\n",
      "choosing : 1\n",
      "or : 2\n",
      "to : 1\n"
     ]
    }
   ],
   "source": [
    "\"\"\"Question 2:\n",
    "Write a program to compute the frequency of the words from the input.\n",
    "The output should output after sorting the key alphanumerically. \n",
    "Suppose the following input is supplied to the program:\n",
    "New to Python or choosing between Python 2 and Python 3? Read Python 2 or Python 3.\n",
    "Then, the output should be:\n",
    "2:2\n",
    "3.:1\n",
    "3?:1\n",
    "New:1\n",
    "Python:5\n",
    "Read:1\n",
    "and:1\n",
    "between:1\n",
    "choosing:1\n",
    "or:2\n",
    "to:1\"\"\"\n",
    "\n",
    "a=input(\"Enter the sentence\\n\")\n",
    "b=sorted(a.split())\n",
    "c=set(b)\n",
    "c=list(c)\n",
    "for i in sorted(c):\n",
    "    print(i,':',b.count(i))"
   ]
  },
  {
   "cell_type": "code",
   "execution_count": 4,
   "metadata": {},
   "outputs": [
    {
     "name": "stdout",
     "output_type": "stream",
     "text": [
      "Male\n",
      "Female\n"
     ]
    }
   ],
   "source": [
    "\"\"\"Question 3:\n",
    "Define a class Person and its two child classes: Male and Female.\n",
    "All classes have a method \"getGender\" which can print \"Male\" for Male class and \"Female\" for Female class.\n",
    "\"\"\"\n",
    "class person:\n",
    "    def getGender(x):\n",
    "        if x==\"Male\":\n",
    "            print(\"Male\")\n",
    "        elif x==\"Female\":\n",
    "            print(\"Female\")\n",
    "    \n",
    "class Male(person):\n",
    "    person.getGender(\"Male\")\n",
    "    \n",
    "class Female(person):\n",
    "    person.getGender(\"Female\")"
   ]
  },
  {
   "cell_type": "code",
   "execution_count": 6,
   "metadata": {},
   "outputs": [
    {
     "name": "stdout",
     "output_type": "stream",
     "text": [
      "I Play Hockey\n",
      "I Play Football\n",
      "I Love Hockey\n",
      "I Love Football\n",
      "You Play Hockey\n",
      "You Play Football\n",
      "You Love Hockey\n",
      "You Love Football\n"
     ]
    }
   ],
   "source": [
    "\"\"\"Question 4:\n",
    "Please write a program to generate all sentences where subject is in [\"I\", \"You\"] and\n",
    "verb is in [\"Play\", \"Love\"] and the object is in [\"Hockey\",\"Football\"].\"\"\"\n",
    "\n",
    "s=[\"I\", \"You\"]\n",
    "v=[\"Play\", \"Love\"] \n",
    "o=[\"Hockey\",\"Football\"]\n",
    "\n",
    "for i in s:\n",
    "    for j in v:\n",
    "        for k in o :\n",
    "            print(i+\" \"+j+\" \"+k)"
   ]
  },
  {
   "cell_type": "code",
   "execution_count": 47,
   "metadata": {},
   "outputs": [
    {
     "data": {
      "text/plain": [
       "b'hello world!hello world!hello world!hello world!'"
      ]
     },
     "execution_count": 47,
     "metadata": {},
     "output_type": "execute_result"
    }
   ],
   "source": [
    "\"\"\"Question 5:\n",
    "Please write a program to compress and decompress the string \"hello world!hello world!hello world!hello world!\".\"\"\"\n",
    "\n",
    "s=b\"hello world!hello world!hello world!hello world!\"\n",
    "import gzip\n",
    "s_comp=gzip.compress(s)\n",
    "s_decomp=gzip.decompress(s_comp)\n",
    "s_decomp"
   ]
  },
  {
   "cell_type": "code",
   "execution_count": 46,
   "metadata": {},
   "outputs": [
    {
     "name": "stdout",
     "output_type": "stream",
     "text": [
      "the index of element to be searched in the sorted list  6\n"
     ]
    }
   ],
   "source": [
    "\"\"\"\n",
    "Question 6:\n",
    "Please write a binary search function which searches an item in a sorted list. \n",
    "The function should return the index of element to be searched in the list.\n",
    "\"\"\"\n",
    "l=[11,22,44,10,100,34,20]\n",
    "l=sorted(l)\n",
    "def search(n):\n",
    "    if n not in l:\n",
    "        print(\"given no. isn't in list\")\n",
    "       \n",
    "    else:\n",
    "        c=0\n",
    "        for i in l:\n",
    "            c=c+1\n",
    "            if i==n:\n",
    "                print(\"the index of element to be searched in the sorted list \",c)\n",
    "search(44)"
   ]
  },
  {
   "cell_type": "code",
   "execution_count": null,
   "metadata": {},
   "outputs": [],
   "source": []
  }
 ],
 "metadata": {
  "kernelspec": {
   "display_name": "Python 3",
   "language": "python",
   "name": "python3"
  },
  "language_info": {
   "codemirror_mode": {
    "name": "ipython",
    "version": 3
   },
   "file_extension": ".py",
   "mimetype": "text/x-python",
   "name": "python",
   "nbconvert_exporter": "python",
   "pygments_lexer": "ipython3",
   "version": "3.8.0"
  }
 },
 "nbformat": 4,
 "nbformat_minor": 4
}
