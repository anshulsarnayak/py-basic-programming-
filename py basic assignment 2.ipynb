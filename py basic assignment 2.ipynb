{
 "cells": [
  {
   "cell_type": "code",
   "execution_count": 1,
   "metadata": {},
   "outputs": [
    {
     "name": "stdout",
     "output_type": "stream",
     "text": [
      "put the kilometers240\n",
      "the miles are 150.0\n"
     ]
    }
   ],
   "source": [
    "x=int(input(\"put the kilometers\"))   #converting kilometers to miles\n",
    "y=x/1.6\n",
    "print(\"the miles are\",y)"
   ]
  },
  {
   "cell_type": "code",
   "execution_count": 2,
   "metadata": {},
   "outputs": [
    {
     "name": "stdout",
     "output_type": "stream",
     "text": [
      "Given celsius are 23\n",
      "the farhenites are 73.4\n"
     ]
    }
   ],
   "source": [
    "#converting Celsius to Fahrenheit\n",
    "\n",
    "c=int(input(\"Given celsius are \"))   \n",
    "f=(c*9/5)+32\n",
    "print(\"the farhenites are\",f)"
   ]
  },
  {
   "cell_type": "code",
   "execution_count": 3,
   "metadata": {},
   "outputs": [
    {
     "name": "stdout",
     "output_type": "stream",
     "text": [
      "type the year2000\n",
      "type the month5\n",
      "      May 2000\n",
      "Mo Tu We Th Fr Sa Su\n",
      " 1  2  3  4  5  6  7\n",
      " 8  9 10 11 12 13 14\n",
      "15 16 17 18 19 20 21\n",
      "22 23 24 25 26 27 28\n",
      "29 30 31\n",
      "\n"
     ]
    }
   ],
   "source": [
    "# to display calendar\n",
    "import calendar \n",
    "\n",
    "Y = int(input(\"type the year\"))\n",
    "M = int(input(\"type the month\"))\n",
    "\n",
    "print(calendar.month(Y,M))"
   ]
  },
  {
   "cell_type": "code",
   "execution_count": 15,
   "metadata": {},
   "outputs": [
    {
     "name": "stdout",
     "output_type": "stream",
     "text": [
      "type quadratic coefficient 12\n",
      "type linear coefficent1\n",
      "type constant4\n",
      "the soln are (-0.041666666666666664-0.5758447900452189j) (-0.041666666666666664+0.5758447900452189j)\n"
     ]
    }
   ],
   "source": [
    " #to solve quadratic equation\n",
    "a,b,c=int(input(\"type quadratic coefficient \")),int(input(\"type linear coefficent\")),int(input(\"type constant\"))\n",
    "                                            \n",
    "d = (b**2) - (4*a*c)  \n",
    "import cmath                          # complex math              \n",
    "sol1 = (-b-cmath.sqrt(d))/(2*a)  \n",
    "sol2 = (-b+cmath.sqrt(d))/(2*a)  \n",
    "print(\"the soln are\",sol1,sol2)"
   ]
  },
  {
   "cell_type": "code",
   "execution_count": 4,
   "metadata": {},
   "outputs": [
    {
     "name": "stdout",
     "output_type": "stream",
     "text": [
      "23\n",
      "34\n",
      "23 34\n",
      "34 23\n"
     ]
    }
   ],
   "source": [
    "#to swap two variables without temp variable\n",
    "a=int(input())\n",
    "b=int(input())\n",
    "print(a,b)\n",
    "a,b=b,a\n",
    "print(a,b)"
   ]
  },
  {
   "cell_type": "code",
   "execution_count": null,
   "metadata": {},
   "outputs": [],
   "source": []
  }
 ],
 "metadata": {
  "kernelspec": {
   "display_name": "Python 3",
   "language": "python",
   "name": "python3"
  },
  "language_info": {
   "codemirror_mode": {
    "name": "ipython",
    "version": 3
   },
   "file_extension": ".py",
   "mimetype": "text/x-python",
   "name": "python",
   "nbconvert_exporter": "python",
   "pygments_lexer": "ipython3",
   "version": "3.8.0"
  }
 },
 "nbformat": 4,
 "nbformat_minor": 4
}
