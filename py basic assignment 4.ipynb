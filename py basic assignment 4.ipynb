{
 "cells": [
  {
   "cell_type": "code",
   "execution_count": 1,
   "metadata": {},
   "outputs": [
    {
     "name": "stdout",
     "output_type": "stream",
     "text": [
      "7\n"
     ]
    },
    {
     "data": {
      "text/plain": [
       "5040"
      ]
     },
     "execution_count": 1,
     "metadata": {},
     "output_type": "execute_result"
    }
   ],
   "source": [
    "# the Factorial of a Number.\n",
    "\n",
    "a=int(input())\n",
    "fact=1\n",
    "if a==0:\n",
    "    print(\"fact:1\")\n",
    "else:    \n",
    "    for i in range(1,(a+1)):\n",
    "        fact=fact*i\n",
    "    \n",
    "fact"
   ]
  },
  {
   "cell_type": "code",
   "execution_count": 2,
   "metadata": {},
   "outputs": [
    {
     "name": "stdout",
     "output_type": "stream",
     "text": [
      "87\n",
      "87\n",
      "174\n",
      "261\n",
      "348\n",
      "435\n",
      "522\n",
      "609\n",
      "696\n",
      "783\n",
      "870\n"
     ]
    }
   ],
   "source": [
    "# Display the multiplication Table\n",
    "a=int(input())         \n",
    "\n",
    "for i in range(1,11):\n",
    "    b=a*i\n",
    "    print(b)\n"
   ]
  },
  {
   "cell_type": "code",
   "execution_count": 3,
   "metadata": {},
   "outputs": [
    {
     "name": "stdout",
     "output_type": "stream",
     "text": [
      "11\n"
     ]
    },
    {
     "data": {
      "text/plain": [
       "[1, 2, 3, 5, 8, 13, 21, 34, 55, 89, 144, 233]"
      ]
     },
     "execution_count": 3,
     "metadata": {},
     "output_type": "execute_result"
    }
   ],
   "source": [
    "# Print the Fibonacci sequence\n",
    "n=int(input( ))\n",
    "a=1\n",
    "b=1\n",
    "l=[]\n",
    "for i in range(n+1):\n",
    "    a,b=b,a+b\n",
    "    l.append(a)\n",
    "l    \n"
   ]
  },
  {
   "cell_type": "code",
   "execution_count": 4,
   "metadata": {},
   "outputs": [
    {
     "name": "stdout",
     "output_type": "stream",
     "text": [
      "4\n",
      "0\n",
      "7\n",
      "It's an Armstrong no.\n"
     ]
    }
   ],
   "source": [
    "#Check Armstrong Number (153,370,)\n",
    "a=int(input( ))\n",
    "b=int(input( ))\n",
    "c=int(input( ))\n",
    "\n",
    "if a**3+b**3+c**3== int(str(a)+str(b)+str(c)):\n",
    "    print(\"It's an Armstrong no.\")\n",
    "else:\n",
    "    print(\"It's not an Armstrong no.\")"
   ]
  },
  {
   "cell_type": "code",
   "execution_count": 8,
   "metadata": {},
   "outputs": [
    {
     "name": "stdout",
     "output_type": "stream",
     "text": [
      "put the given three digit interval start position 400\n",
      "end position 1000\n",
      "In this interval Armstrong no. is 407\n"
     ]
    }
   ],
   "source": [
    "# to Find Armstrong Number in an Interval\n",
    "\n",
    "\n",
    "m=int(input(\"put the given three digit interval start position \"))\n",
    "n=int(input(\"end position \"))\n",
    "for i in range(m,n):\n",
    "    i=str(i)\n",
    "    a=str(i[0])\n",
    "    b=str(i[1])\n",
    "    c=str(i[2])\n",
    "    a=int(a)\n",
    "    b=int(b)\n",
    "    c=int(c)\n",
    "    if a**3+b**3+c**3== int(str(a)+str(b)+str(c)):\n",
    "        print(\"In this interval Armstrong no. is\",int(str(a)+str(b)+str(c)))\n",
    "            "
   ]
  },
  {
   "cell_type": "code",
   "execution_count": 7,
   "metadata": {},
   "outputs": [
    {
     "name": "stdout",
     "output_type": "stream",
     "text": [
      "76\n"
     ]
    },
    {
     "data": {
      "text/plain": [
       "2926"
      ]
     },
     "execution_count": 7,
     "metadata": {},
     "output_type": "execute_result"
    }
   ],
   "source": [
    "# to Find the Sum of Natural Numbers\n",
    "n=int(input())\n",
    "s=0\n",
    "for i in range(0,n+1):\n",
    "        s=s+i\n",
    "        \n",
    "s        "
   ]
  }
 ],
 "metadata": {
  "kernelspec": {
   "display_name": "Python 3",
   "language": "python",
   "name": "python3"
  },
  "language_info": {
   "codemirror_mode": {
    "name": "ipython",
    "version": 3
   },
   "file_extension": ".py",
   "mimetype": "text/x-python",
   "name": "python",
   "nbconvert_exporter": "python",
   "pygments_lexer": "ipython3",
   "version": "3.8.0"
  }
 },
 "nbformat": 4,
 "nbformat_minor": 4
}
