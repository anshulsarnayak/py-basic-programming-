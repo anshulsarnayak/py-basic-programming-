{
 "cells": [
  {
   "cell_type": "code",
   "execution_count": 1,
   "metadata": {},
   "outputs": [
    {
     "name": "stdout",
     "output_type": "stream",
     "text": [
      "sum of elements in list is  187\n"
     ]
    }
   ],
   "source": [
    "# Python program to find sum of elements in list\n",
    "\n",
    "a=[22,11,22,33,44,55]\n",
    "tot=0\n",
    "for i in a:\n",
    "    tot=tot+i\n",
    "print(\"sum of elements in list is \",tot)\n"
   ]
  },
  {
   "cell_type": "code",
   "execution_count": 3,
   "metadata": {},
   "outputs": [
    {
     "name": "stdout",
     "output_type": "stream",
     "text": [
      "multiplication of elements in list is  425174640\n"
     ]
    }
   ],
   "source": [
    "#  Python program to  Multiply all numbers in the list\n",
    "\n",
    "a=[22,11,22,33,44,55]\n",
    "mul=1\n",
    "for i in a:\n",
    "    mul=mul*i\n",
    "print(\"multiplication of elements in list is \",mul)\n"
   ]
  },
  {
   "cell_type": "code",
   "execution_count": 4,
   "metadata": {},
   "outputs": [
    {
     "data": {
      "text/plain": [
       "11"
      ]
     },
     "execution_count": 4,
     "metadata": {},
     "output_type": "execute_result"
    }
   ],
   "source": [
    "# Python program to find smallest number in a list \n",
    "\n",
    "a=[22,11,22,33,44,55]\n",
    "#min(a)\n",
    "b=a[0]\n",
    "for i in a:\n",
    "    if b>i:\n",
    "        b=i\n",
    "        \n",
    "print(\"smallest number in a list is \",b)\n",
    "        \n",
    "    \n"
   ]
  },
  {
   "cell_type": "code",
   "execution_count": 7,
   "metadata": {},
   "outputs": [
    {
     "name": "stdout",
     "output_type": "stream",
     "text": [
      "largest number in a list is  55\n"
     ]
    }
   ],
   "source": [
    "# Python program to find largest number in a list\n",
    "a=[22,11,22,33,44,55]\n",
    "#max(a)\n",
    "b=a[0]\n",
    "for i in a:\n",
    "    if b<i:\n",
    "        b=i\n",
    "        \n",
    "print(\"largest number in a list is \",b)\n",
    "        "
   ]
  },
  {
   "cell_type": "code",
   "execution_count": 13,
   "metadata": {},
   "outputs": [
    {
     "name": "stdout",
     "output_type": "stream",
     "text": [
      "second largest number in a list is 44\n"
     ]
    }
   ],
   "source": [
    "# Python program to find second largest number in a list\n",
    "\n",
    "a=[22,11,22,33,44,55]\n",
    "a.sort()\n",
    "print(\"second largest number in a list is\",a[len(a)-2])"
   ]
  },
  {
   "cell_type": "code",
   "execution_count": 17,
   "metadata": {},
   "outputs": [
    {
     "name": "stdout",
     "output_type": "stream",
     "text": [
      "which N largst number we want to see 3\n",
      "3 largest number in a list is 33\n"
     ]
    }
   ],
   "source": [
    "# Python program to find N largest elements from a list\n",
    "\n",
    "a=[22,11,22,33,44,55]\n",
    "a.sort()\n",
    "b=int(input(\"which N largst number we want to see \"))\n",
    "print(b,\"largest number in a list is\",a[len(a)-(b)])\n"
   ]
  },
  {
   "cell_type": "code",
   "execution_count": 19,
   "metadata": {},
   "outputs": [
    {
     "name": "stdout",
     "output_type": "stream",
     "text": [
      "even numbers in a list are  [22, 22, 44]\n"
     ]
    }
   ],
   "source": [
    "# print even numbers in a list\n",
    "\n",
    "a=[22,11,22,33,44,55]\n",
    "b=[]\n",
    "for i in a:\n",
    "    if i%2==0:\n",
    "        b.append(i)\n",
    "print(\"even numbers in a list are \",b)"
   ]
  },
  {
   "cell_type": "code",
   "execution_count": 20,
   "metadata": {},
   "outputs": [
    {
     "name": "stdout",
     "output_type": "stream",
     "text": [
      "Odd numbers in a list are  [11, 33, 55]\n"
     ]
    }
   ],
   "source": [
    "# print odd numbers in a List\n",
    "\n",
    "a=[22,11,22,33,44,55]\n",
    "b=[]\n",
    "for i in a:\n",
    "    if i%2!=0:\n",
    "        b.append(i)\n",
    "print(\"Odd numbers in a list are \",b)"
   ]
  },
  {
   "cell_type": "code",
   "execution_count": 50,
   "metadata": {},
   "outputs": [
    {
     "name": "stdout",
     "output_type": "stream",
     "text": [
      "After removing empty List from List the list is  [22, 11, [22], 33, 44, 55]\n"
     ]
    }
   ],
   "source": [
    "# Remove empty List from List\n",
    "\n",
    "a=[22,11,[22],33,[],[],44,55]\n",
    "b=[]\n",
    "for i in a:\n",
    "    if i!=[]:\n",
    "        b.append(i)\n",
    "print(\"After removing empty List from List the list is \",b)"
   ]
  },
  {
   "cell_type": "code",
   "execution_count": 53,
   "metadata": {},
   "outputs": [
    {
     "name": "stdout",
     "output_type": "stream",
     "text": [
      "The copied list b is  [22, 11, [22], 33, [], [], 44, 55]\n"
     ]
    }
   ],
   "source": [
    "#Cloning or Copying a list\n",
    "a=[22,11,[22],33,[],[],44,55]\n",
    "b=a.copy()\n",
    "print(\"The copied list b is \",b)"
   ]
  },
  {
   "cell_type": "code",
   "execution_count": 62,
   "metadata": {},
   "outputs": [
    {
     "name": "stdout",
     "output_type": "stream",
     "text": [
      "enter the no. to count in list 22\n",
      "the occurence of 22 in the list is 2\n"
     ]
    }
   ],
   "source": [
    "# Count occurrences of an element in a list\n",
    "a=[22,11,22,33,44,55]\n",
    "b=int(input(\"enter the no. to count in list \"))\n",
    "c=a.count(b)\n",
    "print(\"the occurence of {} in the list is {}\".format(b,c))"
   ]
  },
  {
   "cell_type": "code",
   "execution_count": null,
   "metadata": {},
   "outputs": [],
   "source": []
  }
 ],
 "metadata": {
  "kernelspec": {
   "display_name": "Python 3",
   "language": "python",
   "name": "python3"
  },
  "language_info": {
   "codemirror_mode": {
    "name": "ipython",
    "version": 3
   },
   "file_extension": ".py",
   "mimetype": "text/x-python",
   "name": "python",
   "nbconvert_exporter": "python",
   "pygments_lexer": "ipython3",
   "version": "3.8.0"
  }
 },
 "nbformat": 4,
 "nbformat_minor": 4
}
