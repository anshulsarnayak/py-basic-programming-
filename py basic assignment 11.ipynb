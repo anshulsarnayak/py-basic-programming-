{
 "cells": [
  {
   "cell_type": "code",
   "execution_count": 5,
   "metadata": {},
   "outputs": [
    {
     "name": "stdout",
     "output_type": "stream",
     "text": [
      "Enter the given length k 3\n",
      "['asadd', 'sadsddsad', 'swdd', 'swqwqqwqqwqq']\n"
     ]
    }
   ],
   "source": [
    "#  Python program to find words which are greater than given length k\n",
    "\n",
    "n=int(input(\"Enter the given length k \"))\n",
    "w=[\"asadd\",\"sadsddsad\",'ss',\"swdd\",\"s\",\"swqwqqwqqwqq\"]\n",
    "j=[]\n",
    "for i in w:\n",
    "    if len(i)>n:\n",
    "        j.append(i)\n",
    "print(j)"
   ]
  },
  {
   "cell_type": "code",
   "execution_count": 1,
   "metadata": {},
   "outputs": [
    {
     "name": "stdout",
     "output_type": "stream",
     "text": [
      "Enter the i-th character of string 4\n",
      "sd3fgfg565\n"
     ]
    }
   ],
   "source": [
    "# Python program for removing i-th character from a string\n",
    "\n",
    "s=\"sd34fgfg565\"\n",
    "l=[]\n",
    "\n",
    "for i in s:\n",
    "    l.append(i)\n",
    "    \n",
    "n=int(input(\"Enter the i-th character of string \"))\n",
    "k=s[n-1]\n",
    "l.remove(k)\n",
    "l\n",
    "\n",
    "print(\"\".join(l))"
   ]
  },
  {
   "cell_type": "code",
   "execution_count": 2,
   "metadata": {},
   "outputs": [
    {
     "name": "stdout",
     "output_type": "stream",
     "text": [
      "['dl dcldc lww']\n",
      "abef\n"
     ]
    }
   ],
   "source": [
    "# Python program to split and join a string\n",
    "\n",
    "a=\"dl dcldc lww\"\n",
    "print(a.split(sep=\",\"))\n",
    "print(\"\".join([\"ab\",\"ef\"]))   "
   ]
  },
  {
   "cell_type": "code",
   "execution_count": 15,
   "metadata": {},
   "outputs": [
    {
     "name": "stdout",
     "output_type": "stream",
     "text": [
      "enter the string  1001\n",
      "it's a binary string\n"
     ]
    }
   ],
   "source": [
    "# Python to check if a given string is binary string or not\n",
    "a=input(\"enter the string  \")\n",
    "l=[]\n",
    "for i in a.split():\n",
    "     l.extend(i)       \n",
    "b=1\n",
    "a=1\n",
    "for i in l:\n",
    "    if i=='0' or i=='1':\n",
    "        a=1\n",
    "    \n",
    "    else:\n",
    "        b=0\n",
    "c=a*b\n",
    "if c==1:\n",
    "    print(\"it's a binary string\")\n",
    "else:\n",
    "    print(\"it's not a binary string\")"
   ]
  },
  {
   "cell_type": "code",
   "execution_count": 25,
   "metadata": {},
   "outputs": [
    {
     "name": "stdout",
     "output_type": "stream",
     "text": [
      "All uncommon words of strings are ['whtsupp', 'smartyboy']\n"
     ]
    }
   ],
   "source": [
    "#Python program to find uncommon words from two Strings\n",
    "\n",
    "a=\"hey whtsupp\"\n",
    "b=\"hey hey smartyboy\"\n",
    "\n",
    "c=a.split()\n",
    "d=b.split()\n",
    "l=[]\n",
    "e=[]\n",
    "for i in c :\n",
    "    for j in d:\n",
    "        if i==j:\n",
    "            l.append(i)\n",
    "            \n",
    "        else:\n",
    "            e.append(i)\n",
    "            e.append(j)\n",
    "m=set(e)\n",
    "n=set(l)\n",
    "m=list(m)\n",
    "n=list(n)\n",
    "for i in n:\n",
    "    m.remove(i)\n",
    "print(\"All uncommon words of strings are\",m)"
   ]
  },
  {
   "cell_type": "code",
   "execution_count": 34,
   "metadata": {},
   "outputs": [
    {
     "name": "stdout",
     "output_type": "stream",
     "text": [
      "all duplicate characters in string are ['f', 'g', 'd', 'h', 'w', 'f', 'f', 'g', 'y', 'g', 'f', 'd', 'h']\n"
     ]
    }
   ],
   "source": [
    "#Python to find all duplicate characters in string\n",
    "\n",
    "a=\"dhefgwyufgdbhvwffgtygifdhj\"\n",
    "b=a.strip()\n",
    "b=list(b)\n",
    "c=set(b)\n",
    "c=list(c)\n",
    "for i in c:\n",
    "    b.remove(i)\n",
    "print(\"all duplicate characters in string are\",b)"
   ]
  },
  {
   "cell_type": "code",
   "execution_count": 36,
   "metadata": {},
   "outputs": [
    {
     "name": "stdout",
     "output_type": "stream",
     "text": [
      "string conatains special character\n"
     ]
    }
   ],
   "source": [
    "#Program to check if a string contains any special character\n",
    "\n",
    "\n",
    "st=\"nnsjdhbfhdbv.,,(dhebh)ef\"\n",
    "import re\n",
    "regex=re.compile('[@_!#$%^&*()<>?/\\|}{~:]')\n",
    "if(regex.search(st)==None):\n",
    "    print(\"no special char. in string\")\n",
    "else:\n",
    "    print(\"string conatains special character\")\n",
    " "
   ]
  }
 ],
 "metadata": {
  "kernelspec": {
   "display_name": "Python 3",
   "language": "python",
   "name": "python3"
  },
  "language_info": {
   "codemirror_mode": {
    "name": "ipython",
    "version": 3
   },
   "file_extension": ".py",
   "mimetype": "text/x-python",
   "name": "python",
   "nbconvert_exporter": "python",
   "pygments_lexer": "ipython3",
   "version": "3.8.0"
  }
 },
 "nbformat": 4,
 "nbformat_minor": 4
}
