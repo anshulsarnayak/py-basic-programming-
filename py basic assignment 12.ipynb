{
 "cells": [
  {
   "cell_type": "code",
   "execution_count": 10,
   "metadata": {},
   "outputs": [
    {
     "name": "stdout",
     "output_type": "stream",
     "text": [
      "Unique dictionary values are {'ansh', 'h3heu3', 7676, 'True'}\n"
     ]
    }
   ],
   "source": [
    "#Python program to Extract Unique values dictionary values\n",
    "\n",
    "s={\"student\":\"ansh\",\"name\":\"ansh\",87878:7676,\"ksk\":\"h3heu3\",True:\"True\"}\n",
    "e=s.values()\n",
    "d=set(list(e))\n",
    "print(\"Unique dictionary values are\",d)"
   ]
  },
  {
   "cell_type": "code",
   "execution_count": 19,
   "metadata": {},
   "outputs": [
    {
     "name": "stdout",
     "output_type": "stream",
     "text": [
      " the sum of all items in a dictionary is  8353\n"
     ]
    }
   ],
   "source": [
    "# Python program to find the sum of all items in a dictionary\n",
    "\n",
    "\n",
    "s={'ak':343,'ans':'swmsiw',3433:'ansh',4577:'suju'}\n",
    "a=list(s.keys())\n",
    "b=list(s.values())\n",
    "tot=0\n",
    "for i in a:\n",
    "    if type(i)==int:\n",
    "        tot=tot+i\n",
    "        \n",
    "for i in b:\n",
    "    if type(i)==int:\n",
    "        tot=tot+i\n",
    "        \n",
    "print(\" the sum of all items in a dictionary is \",tot)"
   ]
  },
  {
   "cell_type": "code",
   "execution_count": 24,
   "metadata": {},
   "outputs": [
    {
     "name": "stdout",
     "output_type": "stream",
     "text": [
      "Merging two Dictionaries gives us :\n",
      " {'student': 'ansh', 'name': 'ansh', 87878: 7676, 'ksk': 'h3heu3', True: 'True', 'ak': 343, 'ans': 'swmsiw', 3433: 'ansh', 4577: 'suju'}\n"
     ]
    }
   ],
   "source": [
    "#Python program to Merging two Dictionaries\n",
    "s={'ak':343,'ans':'swmsiw',3433:'ansh',4577:'suju'}\n",
    "a={\"student\":\"ansh\",\"name\":\"ansh\",87878:7676,\"ksk\":\"h3heu3\",True:\"True\"}\n",
    "a.update(s.copy())\n",
    "print('Merging two Dictionaries gives us :\\n',a)"
   ]
  },
  {
   "cell_type": "code",
   "execution_count": 34,
   "metadata": {},
   "outputs": [
    {
     "data": {
      "text/plain": [
       "{11: '2k2', 'amka': 2233, 232: 'owms', 333444: 'seo'}"
      ]
     },
     "execution_count": 34,
     "metadata": {},
     "output_type": "execute_result"
    }
   ],
   "source": [
    "#Python program to convert key-values list to flat dictionary\n",
    "\n",
    "a=[11,'amka',232,333444,'ansh']\n",
    "b=['2k2',2233,'owms','seo']\n",
    "d=dict(zip(a,b))\n",
    "d"
   ]
  },
  {
   "cell_type": "code",
   "execution_count": 60,
   "metadata": {},
   "outputs": [
    {
     "name": "stdout",
     "output_type": "stream",
     "text": [
      "The resultant dictionary is : \n",
      " OrderedDict([('a5rk', 'sf7'), (1814, 'anka'), ('aks', 'jsdjsdn'), (23, 'ansh')])\n"
     ]
    }
   ],
   "source": [
    "# Python program to insertion at the beginning in OrderedDict\n",
    "\n",
    "from collections import OrderedDict\n",
    "a={1814: 'anka','aks':\"jsdjsdn\",23:'ansh'}\n",
    "d=OrderedDict(a)\n",
    "d.update({'a5rk':'sf7'})\n",
    "d.move_to_end('a5rk', last = False)\n",
    "\n",
    "print(\"The resultant dictionary is : \\n\", d)"
   ]
  },
  {
   "cell_type": "code",
   "execution_count": 72,
   "metadata": {},
   "outputs": [
    {
     "name": "stdout",
     "output_type": "stream",
     "text": [
      "The string is   hihi ansh\n",
      "The input pattern is   hi\n",
      "The order of pattern is correct\n"
     ]
    }
   ],
   "source": [
    "# Python program to check order of character in string using OrderedDict()\n",
    "\n",
    "def check_order(my_input, my_pattern):\n",
    "    my_dict = OrderedDict.fromkeys(my_input)\n",
    "    pattern_length = 0\n",
    "    for key,value in my_dict.items():\n",
    "        if (key == my_pattern[pattern_length]):\n",
    "            pattern_length = pattern_length + 1\n",
    "\n",
    "        if (pattern_length == (len(my_pattern))):\n",
    "            return 'The order of pattern is correct'\n",
    "\n",
    "    return 'The order of pattern is incorrect'\n",
    "\n",
    "my_input = 'hihi ansh'\n",
    "input_pattern = 'hi'\n",
    "print(\"The string is  \",my_input)\n",
    "print(\"The input pattern is  \",input_pattern)\n",
    "print(check_order(my_input,input_pattern))"
   ]
  },
  {
   "cell_type": "code",
   "execution_count": 71,
   "metadata": {},
   "outputs": [
    {
     "name": "stdout",
     "output_type": "stream",
     "text": [
      "OrderedDict([('rajnish', '9'), ('ravi', '10'), ('sanjeev', '15'), ('suraj', '32'), ('yash', '2')])\n"
     ]
    }
   ],
   "source": [
    "# Python program to sort Python Dictionaries by Key or Value# Creates a sorted dictionary (sorted by key)\n",
    "\n",
    "dict = {'ravi':'10','rajnish':'9','sanjeev':'15','yash':'2','suraj':'32'}\n",
    "dict1 = OrderedDict(sorted(dict.items()))\n",
    "print(dict1)"
   ]
  }
 ],
 "metadata": {
  "kernelspec": {
   "display_name": "Python 3",
   "language": "python",
   "name": "python3"
  },
  "language_info": {
   "codemirror_mode": {
    "name": "ipython",
    "version": 3
   },
   "file_extension": ".py",
   "mimetype": "text/x-python",
   "name": "python",
   "nbconvert_exporter": "python",
   "pygments_lexer": "ipython3",
   "version": "3.8.0"
  }
 },
 "nbformat": 4,
 "nbformat_minor": 4
}
